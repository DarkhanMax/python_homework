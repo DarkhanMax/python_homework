{
 "cells": [
  {
   "cell_type": "markdown",
   "metadata": {},
   "source": [
    "## Задание 1"
   ]
  },
  {
   "cell_type": "code",
   "execution_count": 1,
   "metadata": {},
   "outputs": [
    {
     "name": "stdout",
     "output_type": "stream",
     "text": [
      "Введите слово из латинских букв: asd\n",
      "Результат: s\n"
     ]
    }
   ],
   "source": [
    "word = input(\"Введите слово из латинских букв: \")\n",
    "print(f\"Результат: {word[(len(word)-1)//2:(len(word)+2)//2]}\")"
   ]
  },
  {
   "cell_type": "markdown",
   "metadata": {},
   "source": [
    "## Задание 2"
   ]
  },
  {
   "cell_type": "code",
   "execution_count": null,
   "metadata": {},
   "outputs": [],
   "source": [
    "number = int(input(\"Введите число: \"))\n",
    "sum = 0\n",
    "if number == 0:\n",
    "    print(f\"Результат:\\n{number}\")\n",
    "else:\n",
    "    while number!=0:\n",
    "        sum = sum + number\n",
    "        number = int(input(\"Введите число: \"))\n",
    "    print(f\"Результат:\\n{sum}\")"
   ]
  },
  {
   "cell_type": "markdown",
   "metadata": {},
   "source": [
    "## Задание 3"
   ]
  },
  {
   "cell_type": "code",
   "execution_count": null,
   "metadata": {},
   "outputs": [],
   "source": [
    "boys = ['Peter','Alex','John','Arthur','Richard','Michael']\n",
    "girls = ['Kate','Liza','Kira','Emma','Trisha']\n",
    "\n",
    "sort_b = sorted(boys)\n",
    "sort_g = sorted(girls)\n",
    "i = 0\n",
    "\n",
    "if len(boys)!=len(girls):\n",
    "    print(\"Внимание, кто-то может остаться без пары!\")\n",
    "else:\n",
    "    while i != len(boys):\n",
    "        print(f\"{sort_b[i]} и {sort_g[i]}\\n\")\n",
    "        i=i+1"
   ]
  },
  {
   "cell_type": "markdown",
   "metadata": {},
   "source": [
    "## Задание 4"
   ]
  },
  {
   "cell_type": "code",
   "execution_count": 16,
   "metadata": {
    "scrolled": true
   },
   "outputs": [
    {
     "name": "stdout",
     "output_type": "stream",
     "text": [
      "Thailand-23.9 C\n",
      "Germany-13.8 C\n",
      "Russia-3.7 C\n",
      "Poland-12.0 C\n"
     ]
    }
   ],
   "source": [
    "countries_temperature = [ ['Thailand',[75.2,77,78.8,73.4,68,75.2,77]],['Germany',[57.2,55.4,59,59,53.6]],['Russia',[35.6,37.4,39.2,41,42.8,39.2,35.6]],['Poland',[50,50,53.6,57.2,55.4,55.4]] ]\n",
    "\n",
    "for i in countries_temperature:\n",
    "    total = sum(i[1])\n",
    "    average = total/len(i[1])\n",
    "    fahr_to_cels = (average-32)*5/9\n",
    "    print(f'{i[0]}-{round(fahr_to_cels,1)} C') "
   ]
  },
  {
   "cell_type": "markdown",
   "metadata": {},
   "source": [
    "## Задание 5"
   ]
  },
  {
   "cell_type": "code",
   "execution_count": 118,
   "metadata": {},
   "outputs": [
    {
     "name": "stdout",
     "output_type": "stream",
     "text": [
      "Среднее количество просмотров на уникального пользователя: 23.25\n"
     ]
    }
   ],
   "source": [
    "stream = [\n",
    "'2018-01-01,user1,3',\n",
    "'2018-01-07,user1,4',\n",
    "'2018-03-29,user1,1',\n",
    "'2018-04-04,user1,13',\n",
    "'2018-01-05,user2,7',\n",
    "'2018-06-14,user3,4',\n",
    "'2018-07-02,user3,10',\n",
    "'2018-03-21,user4,19',\n",
    "'2018-03-22,user4,4',\n",
    "'2018-04-22,user4,8',\n",
    "'2018-05-03,user4,9',\n",
    "'2018-05-11,user4,11',\n",
    "]\n",
    "\n",
    "total = 0\n",
    "users = []\n",
    "unique_u = []\n",
    "\n",
    "for i in stream:\n",
    "    total += int(i[i.find(',',11)+1:])\n",
    "    users.append(i[i.find('r')+1:i.find(',',11)])\n",
    "    for ids in users:\n",
    "        if ids not in unique_u:\n",
    "            unique_u.append(ids)\n",
    "\n",
    "result = total/len(unique_u)\n",
    "print(\"Среднее количество просмотров на уникального пользователя:\", round(result,2))"
   ]
  },
  {
   "cell_type": "markdown",
   "metadata": {},
   "source": [
    "## Задание 6"
   ]
  },
  {
   "cell_type": "code",
   "execution_count": 149,
   "metadata": {},
   "outputs": [
    {
     "name": "stdout",
     "output_type": "stream",
     "text": [
      "Введите набор чисел разделенных пробелом: 4 8 0 3 4 2 0 3\n",
      "Результат:\n",
      " 0 3 4\n"
     ]
    }
   ],
   "source": [
    "given = []\n",
    "lt = []\n",
    "result = []\n",
    "given = input(\"Введите набор чисел разделенных пробелом: \")\n",
    "\n",
    "for i in given:\n",
    "    if i!=' ':\n",
    "        lt.append(i)\n",
    "    for num in lt:\n",
    "        if num not in result and lt.count(num)>1:\n",
    "            result.append(num)\n",
    "print(\"Результат:\\n\",' '.join(sorted(result)))"
   ]
  }
 ],
 "metadata": {
  "kernelspec": {
   "display_name": "Python 3",
   "language": "python",
   "name": "python3"
  },
  "language_info": {
   "codemirror_mode": {
    "name": "ipython",
    "version": 3
   },
   "file_extension": ".py",
   "mimetype": "text/x-python",
   "name": "python",
   "nbconvert_exporter": "python",
   "pygments_lexer": "ipython3",
   "version": "3.8.5"
  }
 },
 "nbformat": 4,
 "nbformat_minor": 4
}
