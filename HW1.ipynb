{
 "cells": [
  {
   "cell_type": "markdown",
   "metadata": {},
   "source": [
    "## Задание 1"
   ]
  },
  {
   "cell_type": "code",
   "execution_count": 2,
   "metadata": {},
   "outputs": [
    {
     "name": "stdout",
     "output_type": "stream",
     "text": [
      "Введите первую фразу: Насколько проще было бы писать программы, если бы не заказчики\n",
      "Введите вторую фразу: 640Кб должно хватить для любых задач. Билл Гейтс (по легенде)\n",
      "Фраза 1 длиннее фразы 2\n"
     ]
    }
   ],
   "source": [
    "phrase_1 = input(\"Введите первую фразу: \")\n",
    "phrase_2 = input(\"Введите вторую фразу: \")\n",
    "\n",
    "if phrase_1 > phrase_2: \n",
    "    print(\"Фраза 1 длиннее фразы 2\")\n",
    "elif phrase_2 > phrase_1:\n",
    "    print(\"Фраза 2 длиннее фразы 1\")\n",
    "else:\n",
    "    print(\"Фразы равной длины\")"
   ]
  },
  {
   "cell_type": "markdown",
   "metadata": {},
   "source": [
    "## Задание 2"
   ]
  },
  {
   "cell_type": "code",
   "execution_count": 7,
   "metadata": {},
   "outputs": [
    {
     "name": "stdout",
     "output_type": "stream",
     "text": [
      "Введите четырехзначный год для проверки: 2019\n",
      "Результат:\n",
      "Обычный год\n"
     ]
    }
   ],
   "source": [
    "year = int(input(\"Введите четырехзначный год для проверки: \"))\n",
    "if year % 4 != 0:\n",
    "    print(\"Результат:\\nОбычный год\")\n",
    "else: \n",
    "    print(\"Результат:\\nВисокосный год\")"
   ]
  },
  {
   "cell_type": "markdown",
   "metadata": {},
   "source": [
    "## Задание 3"
   ]
  },
  {
   "cell_type": "code",
   "execution_count": 9,
   "metadata": {},
   "outputs": [
    {
     "name": "stdout",
     "output_type": "stream",
     "text": [
      "Введите день: 29\n",
      "Введите месяц: Октябрь\n",
      "Результат:\n",
      "Ваш знак зодиака: Скорпион\n"
     ]
    }
   ],
   "source": [
    "day = int(input(\"Введите день: \"))\n",
    "month = input(\"Введите месяц: \")\n",
    "if (day >= 21 and day <= 31 and month == 'Март') or (day >= 1 and day <= 19 and month == 'Апрель'):\n",
    "    print(\"Результат:\\nВаш знак зодиака: Овен\")\n",
    "elif (day>=20 and day<=30 and month=='Апрель') or (day>=1 and day<=20 and month=='Май'):\n",
    "    print(\"Результат:\\nВаш знак зодиака: Телец\")\n",
    "elif (day>=21 and day<=31 and month=='Май') or (day>=1 and day<=21 and month=='Июнь'):\n",
    "    print(\"Результат:\\nВаш знак зодиака: Близнецы\")\n",
    "elif (day>=22 and day<=30 and month=='Июнь') or (day>=1 and day<=22 and month=='Июль'):\n",
    "        print(\"Результат:\\nВаш знак зодиака: Рак\") \n",
    "elif (day>=23 and day<=31 and month=='Июль') or (day>=1 and day<=22 and month=='Август'):\n",
    "        print(\"Результат:\\nВаш знак зодиака: Лев\")\n",
    "elif (day>=23 and day<=31 and month=='Август') or (day>=1 and day<=22 and month=='Сентябрь'):\n",
    "        print(\"Результат:\\nВаш знак зодиака: Дева\")\n",
    "elif (day>=23 and day<=30 and month=='Сентябрь') or (day>=1 and day<=23 and month=='Октябрь'):\n",
    "        print(\"Результат:\\nВаш знак зодиака: Весы\")\n",
    "elif (day>=24 and day<=31 and month=='Октябрь') or (day>=1 and day<=22 and month=='Ноябрь'):\n",
    "        print(\"Результат:\\nВаш знак зодиака: Скорпион\")\n",
    "elif (day>=23 and day<=30 and month=='Ноябрь') or (day>=1 and day<=21 and month=='Декабрь'):\n",
    "        print(\"Результат:\\nВаш знак зодиака: Стрелец\")\n",
    "elif (day>=22 and day<=31 and month=='Декабрь') or (day>=1 and day<=20 and month=='Январь'):\n",
    "        print(\"Результат:\\nВаш знак зодиака: Козерог\")\n",
    "elif (date>=21 and date<=31 and month=='Январь') or(day>=1 and day<=18 and month=='Февраль'):\n",
    "        print(\"Результат:\\nЗнак зодиака:Водолей\")\n",
    "elif (date>=19 and date<=29 and month=='Февраль') or(day>=1 and day<=20 and month=='Март'):\n",
    "        print(\"Результат:\\nЗнак зодиака:Рыбы\")"
   ]
  },
  {
   "cell_type": "markdown",
   "metadata": {},
   "source": [
    "## Задание 4"
   ]
  },
  {
   "cell_type": "code",
   "execution_count": 30,
   "metadata": {},
   "outputs": [
    {
     "name": "stdout",
     "output_type": "stream",
     "text": [
      "Введите ширину коробки: 400\n",
      "Введите длину коробки: 5\n",
      "Введите высоту коробки: 350\n",
      "Стандартная коробка №3\n"
     ]
    }
   ],
   "source": [
    "width = int(input(\"Введите ширину коробки: \"))\n",
    "length = int(input(\"Введите длину коробки: \"))\n",
    "height = int(input(\"Введите высоту коробки: \"))\n",
    "if (width and length and height) < 15:\n",
    "    print(\"Коробка №1\")\n",
    "elif 15<(width or length or height)<50 and length < 200:\n",
    "    print(\"Коробка №2\")\n",
    "elif length > 200:\n",
    "    print(\"Упаковка для лыж\")\n",
    "else:\n",
    "    print(\"Стандартная коробка №3\")"
   ]
  },
  {
   "cell_type": "markdown",
   "metadata": {},
   "source": [
    "## Задание 5"
   ]
  },
  {
   "cell_type": "code",
   "execution_count": 38,
   "metadata": {},
   "outputs": [
    {
     "name": "stdout",
     "output_type": "stream",
     "text": [
      "159555\n",
      "Результат:\n",
      "Счастливый билет\n"
     ]
    }
   ],
   "source": [
    "number = int(input())\n",
    "first_half = number//1000\n",
    "first_n = first_half//100\n",
    "third_n = first_half%10\n",
    "second_n = (first_half%100 - third_n)//10\n",
    "\n",
    "second_half = number%1000\n",
    "fourth_n = second_half//100\n",
    "sixth_n = second_half%10\n",
    "fifth_n = (second_half%100 - sixth_n)//10\n",
    "if (first_n+second_n+third_n)==(fourth_n+fifth_n+sixth_n):\n",
    "    print (\"Результат:\\nСчастливый билет\")\n",
    "else:\n",
    "    print (\"Результат:\\nНеcчастливый билет\")"
   ]
  },
  {
   "cell_type": "markdown",
   "metadata": {},
   "source": [
    "## Задание 6"
   ]
  },
  {
   "cell_type": "code",
   "execution_count": 47,
   "metadata": {},
   "outputs": [
    {
     "name": "stdout",
     "output_type": "stream",
     "text": [
      "Введите тип фигуры (Круг, Треугольник, Прямоугольник): Круг\n",
      "Введите радиус круга: 10\n",
      "Результат:\n",
      "Площадь круга:  314.1592653589793\n"
     ]
    }
   ],
   "source": [
    "from math import pi, sqrt\n",
    "\n",
    "shape = input(\"Введите тип фигуры (Круг, Треугольник, Прямоугольник): \")\n",
    "if shape == 'Круг':\n",
    "    radius = int(input(\"Введите радиус круга: \"))\n",
    "    area_c = pi*radius**2\n",
    "    print(\"Результат:\\nПлощадь круга: \", area_c)\n",
    "elif shape == 'Треугольник':\n",
    "    a = int(input('Введите длину стороны A: '))\n",
    "    b = int(input('Введите длину стороны B: '))\n",
    "    c = int(input('Введите длину стороны C: '))\n",
    "    p = (a+b+c)/2\n",
    "    area_t = sqrt(p*(p-a)*(p-b)*(p-c))\n",
    "    print(\"Результат:\\nПлощадь треугольника: \", area_t)\n",
    "else:\n",
    "    len_a = int(input(\"Введите длину прямоугольника: \"))\n",
    "    wid_b = int(input(\"Введите ширину прямоугольника: \"))\n",
    "    area_r = len_a * wid_b\n",
    "    print(\"Результат:\\nПлощадь прямоугольника: \", area_r)"
   ]
  }
 ],
 "metadata": {
  "kernelspec": {
   "display_name": "Python 3",
   "language": "python",
   "name": "python3"
  },
  "language_info": {
   "codemirror_mode": {
    "name": "ipython",
    "version": 3
   },
   "file_extension": ".py",
   "mimetype": "text/x-python",
   "name": "python",
   "nbconvert_exporter": "python",
   "pygments_lexer": "ipython3",
   "version": "3.8.5"
  }
 },
 "nbformat": 4,
 "nbformat_minor": 4
}
